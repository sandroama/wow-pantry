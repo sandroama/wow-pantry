{
 "cells": [
  {
   "cell_type": "code",
   "execution_count": 1,
   "metadata": {},
   "outputs": [
    {
     "name": "stdout",
     "output_type": "stream",
     "text": [
      "Aggregated .tsx code has been written to aggregated_tsx_code.txt\n"
     ]
    }
   ],
   "source": [
    "import os\n",
    "\n",
    "def collect_tsx_files(directory):\n",
    "    tsx_files = []\n",
    "    for root, _, files in os.walk(directory):\n",
    "        for file in files:\n",
    "            if file.endswith('.js'):\n",
    "                tsx_files.append(os.path.join(root, file))\n",
    "    return tsx_files\n",
    "\n",
    "def aggregate_tsx_content(tsx_files):\n",
    "    aggregated_content = \"\"\n",
    "    for file_path in tsx_files:\n",
    "        # Extract the filename from the file path\n",
    "        filename = os.path.basename(file_path)\n",
    "        # Add the filename before the file content\n",
    "        aggregated_content += f\"File: {filename}\\n\\n\"\n",
    "        with open(file_path, 'r', encoding='utf-8') as file:\n",
    "            aggregated_content += file.read() + \"\\n\\n\"\n",
    "    return aggregated_content\n",
    "\n",
    "def write_to_txt(content, output_file):\n",
    "    with open(output_file, 'w', encoding='utf-8') as file:\n",
    "        file.write(content)\n",
    "\n",
    "if __name__ == \"__main__\":\n",
    "    app_directory = '/Users/sandroamaglobeli/Documents/GitHub/WowPantry/pantry-tracker/src/app'\n",
    "    components_directory = '/Users/sandroamaglobeli/Documents/GitHub/WowPantry/pantry-tracker/src/components'\n",
    "    output_file = 'aggregated_tsx_code.txt'\n",
    "\n",
    "    # Collect all .tsx files in the app and components directories\n",
    "    tsx_files = collect_tsx_files(app_directory) + collect_tsx_files(components_directory)\n",
    "\n",
    "    # Aggregate the content of all collected .tsx files\n",
    "    aggregated_content = aggregate_tsx_content(tsx_files)\n",
    "\n",
    "    # Write the aggregated content to a .txt file\n",
    "    write_to_txt(aggregated_content, output_file)\n",
    "\n",
    "    print(f\"Aggregated .tsx code has been written to {output_file}\")\n"
   ]
  },
  {
   "cell_type": "markdown",
   "metadata": {},
   "source": [
    "# ts"
   ]
  },
  {
   "cell_type": "code",
   "execution_count": 3,
   "metadata": {},
   "outputs": [
    {
     "name": "stdout",
     "output_type": "stream",
     "text": [
      "Aggregated .ts code has been written to aggregated_utils_code.txt\n"
     ]
    }
   ],
   "source": [
    "import os\n",
    "\n",
    "def collect_ts_files(directory):\n",
    "    ts_files = []\n",
    "    for root, _, files in os.walk(directory):\n",
    "        for file in files:\n",
    "            if file.endswith('.js'):\n",
    "                ts_files.append(os.path.join(root, file))\n",
    "    return ts_files\n",
    "\n",
    "def aggregate_ts_content(ts_files):\n",
    "    aggregated_content = \"\"\n",
    "    for file_path in ts_files:\n",
    "        # Extract the filename from the file path\n",
    "        filename = os.path.basename(file_path)\n",
    "        # Add the filename before the file content\n",
    "        aggregated_content += f\"File: {filename}\\n\\n\"\n",
    "        with open(file_path, 'r', encoding='utf-8') as file:\n",
    "            aggregated_content += file.read() + \"\\n\\n\"\n",
    "    return aggregated_content\n",
    "\n",
    "def write_to_txt(content, output_file):\n",
    "    with open(output_file, 'w', encoding='utf-8') as file:\n",
    "        file.write(content)\n",
    "\n",
    "if __name__ == \"__main__\":\n",
    "    utils_directory = '/Users/sandroamaglobeli/Documents/GitHub/WowPantry/pantry-tracker/src/utils'\n",
    "    output_file = 'aggregated_utils_code.txt'\n",
    "\n",
    "    # Collect all .ts files in the types and utils directories\n",
    "    ts_files = collect_ts_files(utils_directory)\n",
    "\n",
    "    # Aggregate the content of all collected .ts files\n",
    "    aggregated_content = aggregate_ts_content(ts_files)\n",
    "\n",
    "    # Write the aggregated content to a .txt file\n",
    "    write_to_txt(aggregated_content, output_file)\n",
    "\n",
    "    print(f\"Aggregated .ts code has been written to {output_file}\")\n"
   ]
  }
 ],
 "metadata": {
  "kernelspec": {
   "display_name": "Python 3",
   "language": "python",
   "name": "python3"
  },
  "language_info": {
   "codemirror_mode": {
    "name": "ipython",
    "version": 3
   },
   "file_extension": ".py",
   "mimetype": "text/x-python",
   "name": "python",
   "nbconvert_exporter": "python",
   "pygments_lexer": "ipython3",
   "version": "3.9.6"
  }
 },
 "nbformat": 4,
 "nbformat_minor": 2
}
